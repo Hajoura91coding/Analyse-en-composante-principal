{
 "cells": [
  {
   "cell_type": "code",
   "execution_count": 1,
   "id": "ff2e397e",
   "metadata": {
    "execution": {
     "iopub.execute_input": "2024-03-07T09:47:44.817365Z",
     "iopub.status.busy": "2024-03-07T09:47:44.816693Z",
     "iopub.status.idle": "2024-03-07T09:47:45.768201Z",
     "shell.execute_reply": "2024-03-07T09:47:45.767140Z"
    },
    "papermill": {
     "duration": 0.97294,
     "end_time": "2024-03-07T09:47:45.771434",
     "exception": false,
     "start_time": "2024-03-07T09:47:44.798494",
     "status": "completed"
    },
    "tags": []
   },
   "outputs": [],
   "source": [
    "import pandas as pd \n",
    "import numpy as np"
   ]
  },
  {
   "cell_type": "code",
   "execution_count": 2,
   "id": "3bb998ba",
   "metadata": {
    "execution": {
     "iopub.execute_input": "2024-03-07T09:47:45.803196Z",
     "iopub.status.busy": "2024-03-07T09:47:45.802331Z",
     "iopub.status.idle": "2024-03-07T09:47:45.828560Z",
     "shell.execute_reply": "2024-03-07T09:47:45.827185Z"
    },
    "papermill": {
     "duration": 0.045482,
     "end_time": "2024-03-07T09:47:45.831658",
     "exception": false,
     "start_time": "2024-03-07T09:47:45.786176",
     "status": "completed"
    },
    "tags": []
   },
   "outputs": [],
   "source": [
    "# Lecture des données\n",
    "WGI_raw = pd.read_csv(\"/kaggle/input/worldwide-governance-indicators/WGI_Data.csv\", sep=\",\")"
   ]
  },
  {
   "cell_type": "code",
   "execution_count": 3,
   "id": "27219411",
   "metadata": {
    "execution": {
     "iopub.execute_input": "2024-03-07T09:47:45.864180Z",
     "iopub.status.busy": "2024-03-07T09:47:45.863756Z",
     "iopub.status.idle": "2024-03-07T09:47:45.872781Z",
     "shell.execute_reply": "2024-03-07T09:47:45.871505Z"
    },
    "papermill": {
     "duration": 0.027788,
     "end_time": "2024-03-07T09:47:45.875343",
     "exception": false,
     "start_time": "2024-03-07T09:47:45.847555",
     "status": "completed"
    },
    "tags": []
   },
   "outputs": [
    {
     "data": {
      "text/plain": [
       "(1284, 5)"
      ]
     },
     "execution_count": 3,
     "metadata": {},
     "output_type": "execute_result"
    }
   ],
   "source": [
    "WGI_raw.shape"
   ]
  },
  {
   "cell_type": "code",
   "execution_count": 4,
   "id": "5b15a1c5",
   "metadata": {
    "execution": {
     "iopub.execute_input": "2024-03-07T09:47:45.908719Z",
     "iopub.status.busy": "2024-03-07T09:47:45.908298Z",
     "iopub.status.idle": "2024-03-07T09:47:45.927568Z",
     "shell.execute_reply": "2024-03-07T09:47:45.926312Z"
    },
    "papermill": {
     "duration": 0.040286,
     "end_time": "2024-03-07T09:47:45.930324",
     "exception": false,
     "start_time": "2024-03-07T09:47:45.890038",
     "status": "completed"
    },
    "tags": []
   },
   "outputs": [
    {
     "data": {
      "text/html": [
       "<div>\n",
       "<style scoped>\n",
       "    .dataframe tbody tr th:only-of-type {\n",
       "        vertical-align: middle;\n",
       "    }\n",
       "\n",
       "    .dataframe tbody tr th {\n",
       "        vertical-align: top;\n",
       "    }\n",
       "\n",
       "    .dataframe thead th {\n",
       "        text-align: right;\n",
       "    }\n",
       "</style>\n",
       "<table border=\"1\" class=\"dataframe\">\n",
       "  <thead>\n",
       "    <tr style=\"text-align: right;\">\n",
       "      <th></th>\n",
       "      <th>Country Name</th>\n",
       "      <th>Country Code</th>\n",
       "      <th>Series Name</th>\n",
       "      <th>Series Code</th>\n",
       "      <th>Value</th>\n",
       "    </tr>\n",
       "  </thead>\n",
       "  <tbody>\n",
       "    <tr>\n",
       "      <th>0</th>\n",
       "      <td>Afghanistan</td>\n",
       "      <td>AFG</td>\n",
       "      <td>Control of Corruption: Estimate</td>\n",
       "      <td>CC.EST</td>\n",
       "      <td>-1.56373512744904</td>\n",
       "    </tr>\n",
       "    <tr>\n",
       "      <th>1</th>\n",
       "      <td>Afghanistan</td>\n",
       "      <td>AFG</td>\n",
       "      <td>Government Effectiveness: Estimate</td>\n",
       "      <td>GE.EST</td>\n",
       "      <td>-1.2221063375473</td>\n",
       "    </tr>\n",
       "    <tr>\n",
       "      <th>2</th>\n",
       "      <td>Afghanistan</td>\n",
       "      <td>AFG</td>\n",
       "      <td>Political Stability and Absence of Violence/Te...</td>\n",
       "      <td>PV.EST</td>\n",
       "      <td>-2.74916744232178</td>\n",
       "    </tr>\n",
       "    <tr>\n",
       "      <th>3</th>\n",
       "      <td>Afghanistan</td>\n",
       "      <td>AFG</td>\n",
       "      <td>Regulatory Quality: Estimate</td>\n",
       "      <td>RQ.EST</td>\n",
       "      <td>-1.32791936397552</td>\n",
       "    </tr>\n",
       "    <tr>\n",
       "      <th>4</th>\n",
       "      <td>Afghanistan</td>\n",
       "      <td>AFG</td>\n",
       "      <td>Rule of Law: Estimate</td>\n",
       "      <td>RL.EST</td>\n",
       "      <td>-1.61642956733704</td>\n",
       "    </tr>\n",
       "  </tbody>\n",
       "</table>\n",
       "</div>"
      ],
      "text/plain": [
       "  Country Name Country Code  \\\n",
       "0  Afghanistan          AFG   \n",
       "1  Afghanistan          AFG   \n",
       "2  Afghanistan          AFG   \n",
       "3  Afghanistan          AFG   \n",
       "4  Afghanistan          AFG   \n",
       "\n",
       "                                         Series Name Series Code  \\\n",
       "0                    Control of Corruption: Estimate      CC.EST   \n",
       "1                 Government Effectiveness: Estimate      GE.EST   \n",
       "2  Political Stability and Absence of Violence/Te...      PV.EST   \n",
       "3                       Regulatory Quality: Estimate      RQ.EST   \n",
       "4                              Rule of Law: Estimate      RL.EST   \n",
       "\n",
       "               Value  \n",
       "0  -1.56373512744904  \n",
       "1   -1.2221063375473  \n",
       "2  -2.74916744232178  \n",
       "3  -1.32791936397552  \n",
       "4  -1.61642956733704  "
      ]
     },
     "execution_count": 4,
     "metadata": {},
     "output_type": "execute_result"
    }
   ],
   "source": [
    "WGI_raw.head()"
   ]
  },
  {
   "cell_type": "markdown",
   "id": "c29d60f8",
   "metadata": {
    "papermill": {
     "duration": 0.014769,
     "end_time": "2024-03-07T09:47:45.960297",
     "exception": false,
     "start_time": "2024-03-07T09:47:45.945528",
     "status": "completed"
    },
    "tags": []
   },
   "source": [
    "# Préparation du jeu de données"
   ]
  },
  {
   "cell_type": "code",
   "execution_count": 5,
   "id": "f60b7135",
   "metadata": {
    "execution": {
     "iopub.execute_input": "2024-03-07T09:47:45.992388Z",
     "iopub.status.busy": "2024-03-07T09:47:45.991932Z",
     "iopub.status.idle": "2024-03-07T09:47:46.001086Z",
     "shell.execute_reply": "2024-03-07T09:47:45.999812Z"
    },
    "papermill": {
     "duration": 0.028417,
     "end_time": "2024-03-07T09:47:46.003849",
     "exception": false,
     "start_time": "2024-03-07T09:47:45.975432",
     "status": "completed"
    },
    "tags": []
   },
   "outputs": [],
   "source": [
    "# Tranformation en réel des valeurs \n",
    "WGI_raw[\"Value\"] = [None if v == \"..\" else float(v) for v in WGI_raw[\"Value\"]]"
   ]
  },
  {
   "cell_type": "code",
   "execution_count": 6,
   "id": "080757dd",
   "metadata": {
    "execution": {
     "iopub.execute_input": "2024-03-07T09:47:46.036621Z",
     "iopub.status.busy": "2024-03-07T09:47:46.036169Z",
     "iopub.status.idle": "2024-03-07T09:47:46.043187Z",
     "shell.execute_reply": "2024-03-07T09:47:46.041836Z"
    },
    "papermill": {
     "duration": 0.027085,
     "end_time": "2024-03-07T09:47:46.046060",
     "exception": false,
     "start_time": "2024-03-07T09:47:46.018975",
     "status": "completed"
    },
    "tags": []
   },
   "outputs": [],
   "source": [
    "defcols = pd.DataFrame(data = {\n",
    "    \"Code\" : ['CC.EST', 'GE.EST', 'PV.EST', 'RQ.EST', 'RL.EST', 'VA.EST'],\n",
    "    \"Serie\": ['CorruptionControl', 'GovEffectiveness', 'PoliticalStability', 'RegulatoryQuality', 'RuleLaw',  'VoiceAccountability']\n",
    "})"
   ]
  },
  {
   "cell_type": "code",
   "execution_count": 7,
   "id": "96854ae7",
   "metadata": {
    "execution": {
     "iopub.execute_input": "2024-03-07T09:47:46.080162Z",
     "iopub.status.busy": "2024-03-07T09:47:46.079737Z",
     "iopub.status.idle": "2024-03-07T09:47:46.097151Z",
     "shell.execute_reply": "2024-03-07T09:47:46.095900Z"
    },
    "papermill": {
     "duration": 0.037757,
     "end_time": "2024-03-07T09:47:46.100122",
     "exception": false,
     "start_time": "2024-03-07T09:47:46.062365",
     "status": "completed"
    },
    "tags": []
   },
   "outputs": [],
   "source": [
    "# Jointure des 2 tables\n",
    "WGI_raw = WGI_raw.merge(defcols, left_on = \"Series Code\", right_on = \"Code\")"
   ]
  },
  {
   "cell_type": "code",
   "execution_count": 8,
   "id": "36da61a7",
   "metadata": {
    "execution": {
     "iopub.execute_input": "2024-03-07T09:47:46.133619Z",
     "iopub.status.busy": "2024-03-07T09:47:46.133099Z",
     "iopub.status.idle": "2024-03-07T09:47:46.145008Z",
     "shell.execute_reply": "2024-03-07T09:47:46.143722Z"
    },
    "papermill": {
     "duration": 0.032261,
     "end_time": "2024-03-07T09:47:46.148026",
     "exception": false,
     "start_time": "2024-03-07T09:47:46.115765",
     "status": "completed"
    },
    "tags": []
   },
   "outputs": [],
   "source": [
    "# récupération des continents\n",
    "Continent = pd.read_csv(\"/kaggle/input/worldwide-governance-indicators/continent.csv\", sep = \";\")"
   ]
  },
  {
   "cell_type": "code",
   "execution_count": 9,
   "id": "d8c10ffa",
   "metadata": {
    "execution": {
     "iopub.execute_input": "2024-03-07T09:47:46.183730Z",
     "iopub.status.busy": "2024-03-07T09:47:46.183288Z",
     "iopub.status.idle": "2024-03-07T09:47:46.199496Z",
     "shell.execute_reply": "2024-03-07T09:47:46.198312Z"
    },
    "papermill": {
     "duration": 0.038123,
     "end_time": "2024-03-07T09:47:46.201894",
     "exception": false,
     "start_time": "2024-03-07T09:47:46.163771",
     "status": "completed"
    },
    "tags": []
   },
   "outputs": [
    {
     "data": {
      "text/html": [
       "<div>\n",
       "<style scoped>\n",
       "    .dataframe tbody tr th:only-of-type {\n",
       "        vertical-align: middle;\n",
       "    }\n",
       "\n",
       "    .dataframe tbody tr th {\n",
       "        vertical-align: top;\n",
       "    }\n",
       "\n",
       "    .dataframe thead th {\n",
       "        text-align: right;\n",
       "    }\n",
       "</style>\n",
       "<table border=\"1\" class=\"dataframe\">\n",
       "  <thead>\n",
       "    <tr style=\"text-align: right;\">\n",
       "      <th></th>\n",
       "      <th>Continent_Name</th>\n",
       "      <th>Continent_Code</th>\n",
       "      <th>Country_Name</th>\n",
       "      <th>Two_Letter_Country_Code</th>\n",
       "      <th>Three_Letter_Country_Code</th>\n",
       "      <th>Country_Number</th>\n",
       "    </tr>\n",
       "  </thead>\n",
       "  <tbody>\n",
       "    <tr>\n",
       "      <th>0</th>\n",
       "      <td>Asia</td>\n",
       "      <td>AS</td>\n",
       "      <td>Afghanistan, Islamic Republic of</td>\n",
       "      <td>AF</td>\n",
       "      <td>AFG</td>\n",
       "      <td>4.0</td>\n",
       "    </tr>\n",
       "    <tr>\n",
       "      <th>1</th>\n",
       "      <td>Europe</td>\n",
       "      <td>EU</td>\n",
       "      <td>Albania, Republic of</td>\n",
       "      <td>AL</td>\n",
       "      <td>ALB</td>\n",
       "      <td>8.0</td>\n",
       "    </tr>\n",
       "    <tr>\n",
       "      <th>2</th>\n",
       "      <td>Antarctica</td>\n",
       "      <td>AN</td>\n",
       "      <td>Antarctica (the territory South of 60 deg S)</td>\n",
       "      <td>AQ</td>\n",
       "      <td>ATA</td>\n",
       "      <td>10.0</td>\n",
       "    </tr>\n",
       "    <tr>\n",
       "      <th>3</th>\n",
       "      <td>Africa</td>\n",
       "      <td>AF</td>\n",
       "      <td>Algeria, People's Democratic Republic of</td>\n",
       "      <td>DZ</td>\n",
       "      <td>DZA</td>\n",
       "      <td>12.0</td>\n",
       "    </tr>\n",
       "    <tr>\n",
       "      <th>4</th>\n",
       "      <td>Oceania</td>\n",
       "      <td>OC</td>\n",
       "      <td>American Samoa</td>\n",
       "      <td>AS</td>\n",
       "      <td>ASM</td>\n",
       "      <td>16.0</td>\n",
       "    </tr>\n",
       "  </tbody>\n",
       "</table>\n",
       "</div>"
      ],
      "text/plain": [
       "  Continent_Name Continent_Code                                  Country_Name  \\\n",
       "0           Asia             AS              Afghanistan, Islamic Republic of   \n",
       "1         Europe             EU                          Albania, Republic of   \n",
       "2     Antarctica             AN  Antarctica (the territory South of 60 deg S)   \n",
       "3         Africa             AF      Algeria, People's Democratic Republic of   \n",
       "4        Oceania             OC                                American Samoa   \n",
       "\n",
       "  Two_Letter_Country_Code Three_Letter_Country_Code  Country_Number  \n",
       "0                      AF                       AFG             4.0  \n",
       "1                      AL                       ALB             8.0  \n",
       "2                      AQ                       ATA            10.0  \n",
       "3                      DZ                       DZA            12.0  \n",
       "4                      AS                       ASM            16.0  "
      ]
     },
     "execution_count": 9,
     "metadata": {},
     "output_type": "execute_result"
    }
   ],
   "source": [
    "Continent.head()"
   ]
  },
  {
   "cell_type": "code",
   "execution_count": 10,
   "id": "c5b9658c",
   "metadata": {
    "execution": {
     "iopub.execute_input": "2024-03-07T09:47:46.235714Z",
     "iopub.status.busy": "2024-03-07T09:47:46.235283Z",
     "iopub.status.idle": "2024-03-07T09:47:46.243840Z",
     "shell.execute_reply": "2024-03-07T09:47:46.242465Z"
    },
    "papermill": {
     "duration": 0.028971,
     "end_time": "2024-03-07T09:47:46.246563",
     "exception": false,
     "start_time": "2024-03-07T09:47:46.217592",
     "status": "completed"
    },
    "tags": []
   },
   "outputs": [],
   "source": [
    "Continent = Continent.drop(columns = [\"Continent_Code\", \"Two_Letter_Country_Code\", \"Country_Number\"])"
   ]
  },
  {
   "cell_type": "code",
   "execution_count": 11,
   "id": "7fc00a15",
   "metadata": {
    "execution": {
     "iopub.execute_input": "2024-03-07T09:47:46.280686Z",
     "iopub.status.busy": "2024-03-07T09:47:46.280263Z",
     "iopub.status.idle": "2024-03-07T09:47:46.297143Z",
     "shell.execute_reply": "2024-03-07T09:47:46.295846Z"
    },
    "papermill": {
     "duration": 0.03768,
     "end_time": "2024-03-07T09:47:46.300129",
     "exception": false,
     "start_time": "2024-03-07T09:47:46.262449",
     "status": "completed"
    },
    "tags": []
   },
   "outputs": [],
   "source": [
    "# Filtres sur des pays à cheval entre Europe et Asie\n",
    "Continent = Continent.query(\"not(Three_Letter_Country_Code.isin(['ARM', 'CYP', 'AZE', 'TUR', 'KAZ', 'GEO', 'RUS']) & Continent_Name == 'Asia')\")"
   ]
  },
  {
   "cell_type": "code",
   "execution_count": 12,
   "id": "21feca97",
   "metadata": {
    "execution": {
     "iopub.execute_input": "2024-03-07T09:47:46.333716Z",
     "iopub.status.busy": "2024-03-07T09:47:46.333292Z",
     "iopub.status.idle": "2024-03-07T09:47:46.346558Z",
     "shell.execute_reply": "2024-03-07T09:47:46.344638Z"
    },
    "papermill": {
     "duration": 0.033882,
     "end_time": "2024-03-07T09:47:46.349507",
     "exception": false,
     "start_time": "2024-03-07T09:47:46.315625",
     "status": "completed"
    },
    "tags": []
   },
   "outputs": [],
   "source": [
    "WGI_raw = WGI_raw.merge(Continent, how = 'left', left_on = \"Country Code\", right_on = \"Three_Letter_Country_Code\")"
   ]
  },
  {
   "cell_type": "code",
   "execution_count": 13,
   "id": "3ac9979e",
   "metadata": {
    "execution": {
     "iopub.execute_input": "2024-03-07T09:47:46.383891Z",
     "iopub.status.busy": "2024-03-07T09:47:46.383441Z",
     "iopub.status.idle": "2024-03-07T09:47:46.409928Z",
     "shell.execute_reply": "2024-03-07T09:47:46.408583Z"
    },
    "papermill": {
     "duration": 0.047432,
     "end_time": "2024-03-07T09:47:46.413024",
     "exception": false,
     "start_time": "2024-03-07T09:47:46.365592",
     "status": "completed"
    },
    "tags": []
   },
   "outputs": [],
   "source": [
    "# Modification de la forme de la table\n",
    "WGI = pd.pivot_table(WGI_raw.reset_index(), index = ['Country_Name', \"Continent_Name\"], columns = \"Serie\", values = \"Value\")"
   ]
  },
  {
   "cell_type": "code",
   "execution_count": 14,
   "id": "258e5248",
   "metadata": {
    "execution": {
     "iopub.execute_input": "2024-03-07T09:47:46.451071Z",
     "iopub.status.busy": "2024-03-07T09:47:46.449918Z",
     "iopub.status.idle": "2024-03-07T09:47:46.471388Z",
     "shell.execute_reply": "2024-03-07T09:47:46.470133Z"
    },
    "papermill": {
     "duration": 0.042381,
     "end_time": "2024-03-07T09:47:46.474070",
     "exception": false,
     "start_time": "2024-03-07T09:47:46.431689",
     "status": "completed"
    },
    "tags": []
   },
   "outputs": [
    {
     "data": {
      "text/html": [
       "<div>\n",
       "<style scoped>\n",
       "    .dataframe tbody tr th:only-of-type {\n",
       "        vertical-align: middle;\n",
       "    }\n",
       "\n",
       "    .dataframe tbody tr th {\n",
       "        vertical-align: top;\n",
       "    }\n",
       "\n",
       "    .dataframe thead th {\n",
       "        text-align: right;\n",
       "    }\n",
       "</style>\n",
       "<table border=\"1\" class=\"dataframe\">\n",
       "  <thead>\n",
       "    <tr style=\"text-align: right;\">\n",
       "      <th>Serie</th>\n",
       "      <th>Country_Name</th>\n",
       "      <th>Continent_Name</th>\n",
       "      <th>CorruptionControl</th>\n",
       "      <th>GovEffectiveness</th>\n",
       "      <th>PoliticalStability</th>\n",
       "      <th>RegulatoryQuality</th>\n",
       "      <th>RuleLaw</th>\n",
       "      <th>VoiceAccountability</th>\n",
       "    </tr>\n",
       "  </thead>\n",
       "  <tbody>\n",
       "    <tr>\n",
       "      <th>0</th>\n",
       "      <td>Afghanistan, Islamic Republic of</td>\n",
       "      <td>Asia</td>\n",
       "      <td>-1.563735</td>\n",
       "      <td>-1.222106</td>\n",
       "      <td>-2.749167</td>\n",
       "      <td>-1.327919</td>\n",
       "      <td>-1.616430</td>\n",
       "      <td>-1.086220</td>\n",
       "    </tr>\n",
       "    <tr>\n",
       "      <th>1</th>\n",
       "      <td>Albania, Republic of</td>\n",
       "      <td>Europe</td>\n",
       "      <td>-0.397567</td>\n",
       "      <td>-0.000573</td>\n",
       "      <td>0.257720</td>\n",
       "      <td>0.188962</td>\n",
       "      <td>-0.347468</td>\n",
       "      <td>0.159191</td>\n",
       "    </tr>\n",
       "    <tr>\n",
       "      <th>2</th>\n",
       "      <td>Algeria, People's Democratic Republic of</td>\n",
       "      <td>Africa</td>\n",
       "      <td>-0.691359</td>\n",
       "      <td>-0.544695</td>\n",
       "      <td>-1.139282</td>\n",
       "      <td>-1.171843</td>\n",
       "      <td>-0.849319</td>\n",
       "      <td>-0.877241</td>\n",
       "    </tr>\n",
       "    <tr>\n",
       "      <th>3</th>\n",
       "      <td>American Samoa</td>\n",
       "      <td>Oceania</td>\n",
       "      <td>1.230341</td>\n",
       "      <td>0.531472</td>\n",
       "      <td>1.192534</td>\n",
       "      <td>0.136647</td>\n",
       "      <td>1.328246</td>\n",
       "      <td>NaN</td>\n",
       "    </tr>\n",
       "    <tr>\n",
       "      <th>4</th>\n",
       "      <td>Andorra, Principality of</td>\n",
       "      <td>Europe</td>\n",
       "      <td>1.230341</td>\n",
       "      <td>1.860201</td>\n",
       "      <td>1.396047</td>\n",
       "      <td>0.871409</td>\n",
       "      <td>1.564011</td>\n",
       "      <td>1.197540</td>\n",
       "    </tr>\n",
       "    <tr>\n",
       "      <th>...</th>\n",
       "      <td>...</td>\n",
       "      <td>...</td>\n",
       "      <td>...</td>\n",
       "      <td>...</td>\n",
       "      <td>...</td>\n",
       "      <td>...</td>\n",
       "      <td>...</td>\n",
       "      <td>...</td>\n",
       "    </tr>\n",
       "    <tr>\n",
       "      <th>205</th>\n",
       "      <td>Venezuela, Bolivarian Republic of</td>\n",
       "      <td>South America</td>\n",
       "      <td>-1.392557</td>\n",
       "      <td>-1.293382</td>\n",
       "      <td>-1.026120</td>\n",
       "      <td>-1.996909</td>\n",
       "      <td>-2.178493</td>\n",
       "      <td>-1.134777</td>\n",
       "    </tr>\n",
       "    <tr>\n",
       "      <th>206</th>\n",
       "      <td>Vietnam, Socialist Republic of</td>\n",
       "      <td>Asia</td>\n",
       "      <td>-0.396315</td>\n",
       "      <td>0.010342</td>\n",
       "      <td>0.168574</td>\n",
       "      <td>-0.453935</td>\n",
       "      <td>0.048006</td>\n",
       "      <td>-1.407117</td>\n",
       "    </tr>\n",
       "    <tr>\n",
       "      <th>207</th>\n",
       "      <td>Yemen</td>\n",
       "      <td>Asia</td>\n",
       "      <td>-1.668297</td>\n",
       "      <td>-1.819497</td>\n",
       "      <td>-2.793776</td>\n",
       "      <td>-1.479933</td>\n",
       "      <td>-1.600989</td>\n",
       "      <td>-1.651756</td>\n",
       "    </tr>\n",
       "    <tr>\n",
       "      <th>208</th>\n",
       "      <td>Zambia, Republic of</td>\n",
       "      <td>Africa</td>\n",
       "      <td>-0.396116</td>\n",
       "      <td>-0.658354</td>\n",
       "      <td>0.183082</td>\n",
       "      <td>-0.483631</td>\n",
       "      <td>-0.302031</td>\n",
       "      <td>-0.300023</td>\n",
       "    </tr>\n",
       "    <tr>\n",
       "      <th>209</th>\n",
       "      <td>Zimbabwe, Republic of</td>\n",
       "      <td>Africa</td>\n",
       "      <td>-1.281971</td>\n",
       "      <td>-1.159108</td>\n",
       "      <td>-0.612713</td>\n",
       "      <td>-1.720111</td>\n",
       "      <td>-1.323667</td>\n",
       "      <td>-1.113374</td>\n",
       "    </tr>\n",
       "  </tbody>\n",
       "</table>\n",
       "<p>210 rows × 8 columns</p>\n",
       "</div>"
      ],
      "text/plain": [
       "Serie                              Country_Name Continent_Name  \\\n",
       "0              Afghanistan, Islamic Republic of           Asia   \n",
       "1                          Albania, Republic of         Europe   \n",
       "2      Algeria, People's Democratic Republic of         Africa   \n",
       "3                                American Samoa        Oceania   \n",
       "4                      Andorra, Principality of         Europe   \n",
       "..                                          ...            ...   \n",
       "205           Venezuela, Bolivarian Republic of  South America   \n",
       "206              Vietnam, Socialist Republic of           Asia   \n",
       "207                                       Yemen           Asia   \n",
       "208                         Zambia, Republic of         Africa   \n",
       "209                       Zimbabwe, Republic of         Africa   \n",
       "\n",
       "Serie  CorruptionControl  GovEffectiveness  PoliticalStability  \\\n",
       "0              -1.563735         -1.222106           -2.749167   \n",
       "1              -0.397567         -0.000573            0.257720   \n",
       "2              -0.691359         -0.544695           -1.139282   \n",
       "3               1.230341          0.531472            1.192534   \n",
       "4               1.230341          1.860201            1.396047   \n",
       "..                   ...               ...                 ...   \n",
       "205            -1.392557         -1.293382           -1.026120   \n",
       "206            -0.396315          0.010342            0.168574   \n",
       "207            -1.668297         -1.819497           -2.793776   \n",
       "208            -0.396116         -0.658354            0.183082   \n",
       "209            -1.281971         -1.159108           -0.612713   \n",
       "\n",
       "Serie  RegulatoryQuality   RuleLaw  VoiceAccountability  \n",
       "0              -1.327919 -1.616430            -1.086220  \n",
       "1               0.188962 -0.347468             0.159191  \n",
       "2              -1.171843 -0.849319            -0.877241  \n",
       "3               0.136647  1.328246                  NaN  \n",
       "4               0.871409  1.564011             1.197540  \n",
       "..                   ...       ...                  ...  \n",
       "205            -1.996909 -2.178493            -1.134777  \n",
       "206            -0.453935  0.048006            -1.407117  \n",
       "207            -1.479933 -1.600989            -1.651756  \n",
       "208            -0.483631 -0.302031            -0.300023  \n",
       "209            -1.720111 -1.323667            -1.113374  \n",
       "\n",
       "[210 rows x 8 columns]"
      ]
     },
     "execution_count": 14,
     "metadata": {},
     "output_type": "execute_result"
    }
   ],
   "source": [
    "WGI = WGI.reset_index()\n",
    "WGI"
   ]
  },
  {
   "cell_type": "markdown",
   "id": "f51c6b64",
   "metadata": {
    "papermill": {
     "duration": 0.015505,
     "end_time": "2024-03-07T09:47:46.505905",
     "exception": false,
     "start_time": "2024-03-07T09:47:46.490400",
     "status": "completed"
    },
    "tags": []
   },
   "source": [
    "# Analyse de données sous python"
   ]
  },
  {
   "cell_type": "code",
   "execution_count": 15,
   "id": "f4736fc7",
   "metadata": {
    "execution": {
     "iopub.execute_input": "2024-03-07T09:47:46.541565Z",
     "iopub.status.busy": "2024-03-07T09:47:46.541107Z",
     "iopub.status.idle": "2024-03-07T09:47:48.038561Z",
     "shell.execute_reply": "2024-03-07T09:47:48.037661Z"
    },
    "papermill": {
     "duration": 1.518545,
     "end_time": "2024-03-07T09:47:48.041296",
     "exception": false,
     "start_time": "2024-03-07T09:47:46.522751",
     "status": "completed"
    },
    "tags": []
   },
   "outputs": [],
   "source": [
    "import matplotlib.pyplot as plt\n",
    "import seaborn\n",
    "seaborn.set_style(\"white\")\n",
    "\n",
    "# permet d'afficher les graphiques dans un notebook\n",
    "%matplotlib inline"
   ]
  },
  {
   "cell_type": "markdown",
   "id": "8a37a5f6",
   "metadata": {
    "papermill": {
     "duration": 0.016116,
     "end_time": "2024-03-07T09:47:48.074411",
     "exception": false,
     "start_time": "2024-03-07T09:47:48.058295",
     "status": "completed"
    },
    "tags": []
   },
   "source": [
    "Pour appliquer les deux méthodes, nous allons réaliser une étude de cas, avec les données WGI. Celles-ci donnent certains indicateurs sur la gouvernance des pays. Voici donc le code pour les importer dans un data frame pandas, et leur aperçu. Pour information, plus la valeur est haute, meilleur est le pays sur cet indicateur (et inversement)."
   ]
  },
  {
   "cell_type": "markdown",
   "id": "85e53941",
   "metadata": {
    "papermill": {
     "duration": 0.016376,
     "end_time": "2024-03-07T09:47:48.108142",
     "exception": false,
     "start_time": "2024-03-07T09:47:48.091766",
     "status": "completed"
    },
    "tags": []
   },
   "source": [
    "## Analyse en composante principal"
   ]
  },
  {
   "cell_type": "markdown",
   "id": "e08e1460",
   "metadata": {
    "papermill": {
     "duration": 0.015922,
     "end_time": "2024-03-07T09:47:48.140698",
     "exception": false,
     "start_time": "2024-03-07T09:47:48.124776",
     "status": "completed"
    },
    "tags": []
   },
   "source": [
    "Dans le sous-module decomposition, nous allons importer la fonction PCA(). Le fonctionnement de celle-ci est similaire à toutes les autres dans scikit-learn.\n",
    "\n",
    "On créé d'abord un objet (nommé ici pca) qui va contenir le résultat de l'ACP. Dans la fonction PCA(), on pourra aussi indiquer les paramètres tels que le nombre de composants à retenir (n_components - ici on garde tout).\n",
    "Ensuite, on ajuste (fit en anglais) sur des données avec la fonction fit() de l'objet précédemment créé. Dans cette fonction, nous devons donc passer les données à utiliser (variables uniquement quantitatives).\n",
    "Si l'on souhaite une ACP normée (ce qui n'est pas le cas ici), il nous faut standardiser les données en amont, avec par exemple la fonction scale() du sous-module preprocessing (importée aussi ici). Bien évidemment, il ne faut passer que des variables quantitatives, sans données manquantes."
   ]
  },
  {
   "cell_type": "code",
   "execution_count": 16,
   "id": "2c827830",
   "metadata": {
    "execution": {
     "iopub.execute_input": "2024-03-07T09:47:48.177022Z",
     "iopub.status.busy": "2024-03-07T09:47:48.176375Z",
     "iopub.status.idle": "2024-03-07T09:47:48.182701Z",
     "shell.execute_reply": "2024-03-07T09:47:48.181753Z"
    },
    "papermill": {
     "duration": 0.028854,
     "end_time": "2024-03-07T09:47:48.186415",
     "exception": false,
     "start_time": "2024-03-07T09:47:48.157561",
     "status": "completed"
    },
    "tags": []
   },
   "outputs": [],
   "source": [
    "WGI.dropna(inplace=True)"
   ]
  },
  {
   "cell_type": "code",
   "execution_count": 17,
   "id": "71b6d224",
   "metadata": {
    "execution": {
     "iopub.execute_input": "2024-03-07T09:47:48.222514Z",
     "iopub.status.busy": "2024-03-07T09:47:48.221760Z",
     "iopub.status.idle": "2024-03-07T09:47:48.228996Z",
     "shell.execute_reply": "2024-03-07T09:47:48.227788Z"
    },
    "papermill": {
     "duration": 0.027597,
     "end_time": "2024-03-07T09:47:48.231473",
     "exception": false,
     "start_time": "2024-03-07T09:47:48.203876",
     "status": "completed"
    },
    "tags": []
   },
   "outputs": [
    {
     "data": {
      "text/plain": [
       "(201, 8)"
      ]
     },
     "execution_count": 17,
     "metadata": {},
     "output_type": "execute_result"
    }
   ],
   "source": [
    "WGI.shape"
   ]
  },
  {
   "cell_type": "code",
   "execution_count": 18,
   "id": "4941fdd9",
   "metadata": {
    "execution": {
     "iopub.execute_input": "2024-03-07T09:47:48.332074Z",
     "iopub.status.busy": "2024-03-07T09:47:48.330783Z",
     "iopub.status.idle": "2024-03-07T09:47:48.865380Z",
     "shell.execute_reply": "2024-03-07T09:47:48.864144Z"
    },
    "papermill": {
     "duration": 0.555602,
     "end_time": "2024-03-07T09:47:48.868442",
     "exception": false,
     "start_time": "2024-03-07T09:47:48.312840",
     "status": "completed"
    },
    "tags": []
   },
   "outputs": [
    {
     "data": {
      "text/html": [
       "<style>#sk-container-id-1 {color: black;background-color: white;}#sk-container-id-1 pre{padding: 0;}#sk-container-id-1 div.sk-toggleable {background-color: white;}#sk-container-id-1 label.sk-toggleable__label {cursor: pointer;display: block;width: 100%;margin-bottom: 0;padding: 0.3em;box-sizing: border-box;text-align: center;}#sk-container-id-1 label.sk-toggleable__label-arrow:before {content: \"▸\";float: left;margin-right: 0.25em;color: #696969;}#sk-container-id-1 label.sk-toggleable__label-arrow:hover:before {color: black;}#sk-container-id-1 div.sk-estimator:hover label.sk-toggleable__label-arrow:before {color: black;}#sk-container-id-1 div.sk-toggleable__content {max-height: 0;max-width: 0;overflow: hidden;text-align: left;background-color: #f0f8ff;}#sk-container-id-1 div.sk-toggleable__content pre {margin: 0.2em;color: black;border-radius: 0.25em;background-color: #f0f8ff;}#sk-container-id-1 input.sk-toggleable__control:checked~div.sk-toggleable__content {max-height: 200px;max-width: 100%;overflow: auto;}#sk-container-id-1 input.sk-toggleable__control:checked~label.sk-toggleable__label-arrow:before {content: \"▾\";}#sk-container-id-1 div.sk-estimator input.sk-toggleable__control:checked~label.sk-toggleable__label {background-color: #d4ebff;}#sk-container-id-1 div.sk-label input.sk-toggleable__control:checked~label.sk-toggleable__label {background-color: #d4ebff;}#sk-container-id-1 input.sk-hidden--visually {border: 0;clip: rect(1px 1px 1px 1px);clip: rect(1px, 1px, 1px, 1px);height: 1px;margin: -1px;overflow: hidden;padding: 0;position: absolute;width: 1px;}#sk-container-id-1 div.sk-estimator {font-family: monospace;background-color: #f0f8ff;border: 1px dotted black;border-radius: 0.25em;box-sizing: border-box;margin-bottom: 0.5em;}#sk-container-id-1 div.sk-estimator:hover {background-color: #d4ebff;}#sk-container-id-1 div.sk-parallel-item::after {content: \"\";width: 100%;border-bottom: 1px solid gray;flex-grow: 1;}#sk-container-id-1 div.sk-label:hover label.sk-toggleable__label {background-color: #d4ebff;}#sk-container-id-1 div.sk-serial::before {content: \"\";position: absolute;border-left: 1px solid gray;box-sizing: border-box;top: 0;bottom: 0;left: 50%;z-index: 0;}#sk-container-id-1 div.sk-serial {display: flex;flex-direction: column;align-items: center;background-color: white;padding-right: 0.2em;padding-left: 0.2em;position: relative;}#sk-container-id-1 div.sk-item {position: relative;z-index: 1;}#sk-container-id-1 div.sk-parallel {display: flex;align-items: stretch;justify-content: center;background-color: white;position: relative;}#sk-container-id-1 div.sk-item::before, #sk-container-id-1 div.sk-parallel-item::before {content: \"\";position: absolute;border-left: 1px solid gray;box-sizing: border-box;top: 0;bottom: 0;left: 50%;z-index: -1;}#sk-container-id-1 div.sk-parallel-item {display: flex;flex-direction: column;z-index: 1;position: relative;background-color: white;}#sk-container-id-1 div.sk-parallel-item:first-child::after {align-self: flex-end;width: 50%;}#sk-container-id-1 div.sk-parallel-item:last-child::after {align-self: flex-start;width: 50%;}#sk-container-id-1 div.sk-parallel-item:only-child::after {width: 0;}#sk-container-id-1 div.sk-dashed-wrapped {border: 1px dashed gray;margin: 0 0.4em 0.5em 0.4em;box-sizing: border-box;padding-bottom: 0.4em;background-color: white;}#sk-container-id-1 div.sk-label label {font-family: monospace;font-weight: bold;display: inline-block;line-height: 1.2em;}#sk-container-id-1 div.sk-label-container {text-align: center;}#sk-container-id-1 div.sk-container {/* jupyter's `normalize.less` sets `[hidden] { display: none; }` but bootstrap.min.css set `[hidden] { display: none !important; }` so we also need the `!important` here to be able to override the default hidden behavior on the sphinx rendered scikit-learn.org. See: https://github.com/scikit-learn/scikit-learn/issues/21755 */display: inline-block !important;position: relative;}#sk-container-id-1 div.sk-text-repr-fallback {display: none;}</style><div id=\"sk-container-id-1\" class=\"sk-top-container\"><div class=\"sk-text-repr-fallback\"><pre>PCA()</pre><b>In a Jupyter environment, please rerun this cell to show the HTML representation or trust the notebook. <br />On GitHub, the HTML representation is unable to render, please try loading this page with nbviewer.org.</b></div><div class=\"sk-container\" hidden><div class=\"sk-item\"><div class=\"sk-estimator sk-toggleable\"><input class=\"sk-toggleable__control sk-hidden--visually\" id=\"sk-estimator-id-1\" type=\"checkbox\" checked><label for=\"sk-estimator-id-1\" class=\"sk-toggleable__label sk-toggleable__label-arrow\">PCA</label><div class=\"sk-toggleable__content\"><pre>PCA()</pre></div></div></div></div></div>"
      ],
      "text/plain": [
       "PCA()"
      ]
     },
     "execution_count": 18,
     "metadata": {},
     "output_type": "execute_result"
    }
   ],
   "source": [
    "from sklearn.decomposition import PCA\n",
    "from sklearn.preprocessing import scale\n",
    "\n",
    "# suppression des colonnes non numériques\n",
    "WGI_num = WGI.drop(columns = [\"Country_Name\", \"Continent_Name\"])\n",
    "pca = PCA()\n",
    "pca.fit(WGI_num) "
   ]
  },
  {
   "cell_type": "markdown",
   "id": "dd1b5382",
   "metadata": {
    "papermill": {
     "duration": 0.016992,
     "end_time": "2024-03-07T09:47:48.902777",
     "exception": false,
     "start_time": "2024-03-07T09:47:48.885785",
     "status": "completed"
    },
    "tags": []
   },
   "source": [
    "### Variance expliquée\n",
    "L'objet pca comprend maintenant un certain nombre d'objets et de fonctions. Le premier objet est le tableau des variances expliquées (explained_variance_ - proportionnelles aux valeurs propres) par chaque dimension, et le ratio (proportion) de variance expliquée par dimension (explained_variance_ratio_)."
   ]
  },
  {
   "cell_type": "code",
   "execution_count": 19,
   "id": "c81f0615",
   "metadata": {
    "execution": {
     "iopub.execute_input": "2024-03-07T09:47:48.940040Z",
     "iopub.status.busy": "2024-03-07T09:47:48.939376Z",
     "iopub.status.idle": "2024-03-07T09:47:48.946533Z",
     "shell.execute_reply": "2024-03-07T09:47:48.945341Z"
    },
    "papermill": {
     "duration": 0.028111,
     "end_time": "2024-03-07T09:47:48.948909",
     "exception": false,
     "start_time": "2024-03-07T09:47:48.920798",
     "status": "completed"
    },
    "tags": []
   },
   "outputs": [
    {
     "name": "stdout",
     "output_type": "stream",
     "text": [
      "[5.02734546 0.47250134 0.31926518 0.11493585 0.05219518 0.04079811]\n",
      "[0.8341316  0.0783969  0.05297213 0.01907003 0.00866017 0.00676918]\n"
     ]
    }
   ],
   "source": [
    "print(pca.explained_variance_)\n",
    "print(pca.explained_variance_ratio_)"
   ]
  },
  {
   "cell_type": "markdown",
   "id": "231a30ec",
   "metadata": {
    "papermill": {
     "duration": 0.017749,
     "end_time": "2024-03-07T09:47:48.984689",
     "exception": false,
     "start_time": "2024-03-07T09:47:48.966940",
     "status": "completed"
    },
    "tags": []
   },
   "source": [
    "Bien évidemment, il est possible (et préférable) de faire un tableau récapitulatif, avec les variances expliquées, les proportions de variance expliquée simples et cumulées. Voici un petit code permettant de faire ceci."
   ]
  },
  {
   "cell_type": "code",
   "execution_count": 20,
   "id": "1c0a6466",
   "metadata": {
    "execution": {
     "iopub.execute_input": "2024-03-07T09:47:49.024367Z",
     "iopub.status.busy": "2024-03-07T09:47:49.023888Z",
     "iopub.status.idle": "2024-03-07T09:47:49.043380Z",
     "shell.execute_reply": "2024-03-07T09:47:49.041527Z"
    },
    "papermill": {
     "duration": 0.043338,
     "end_time": "2024-03-07T09:47:49.046356",
     "exception": false,
     "start_time": "2024-03-07T09:47:49.003018",
     "status": "completed"
    },
    "tags": []
   },
   "outputs": [
    {
     "data": {
      "text/html": [
       "<div>\n",
       "<style scoped>\n",
       "    .dataframe tbody tr th:only-of-type {\n",
       "        vertical-align: middle;\n",
       "    }\n",
       "\n",
       "    .dataframe tbody tr th {\n",
       "        vertical-align: top;\n",
       "    }\n",
       "\n",
       "    .dataframe thead th {\n",
       "        text-align: right;\n",
       "    }\n",
       "</style>\n",
       "<table border=\"1\" class=\"dataframe\">\n",
       "  <thead>\n",
       "    <tr style=\"text-align: right;\">\n",
       "      <th></th>\n",
       "      <th>Dimension</th>\n",
       "      <th>Variance expliquée</th>\n",
       "      <th>% variance expliquée</th>\n",
       "      <th>% cum. var. expliquée</th>\n",
       "    </tr>\n",
       "  </thead>\n",
       "  <tbody>\n",
       "    <tr>\n",
       "      <th>0</th>\n",
       "      <td>Dim1</td>\n",
       "      <td>5.027345</td>\n",
       "      <td>83.0</td>\n",
       "      <td>83.0</td>\n",
       "    </tr>\n",
       "    <tr>\n",
       "      <th>1</th>\n",
       "      <td>Dim2</td>\n",
       "      <td>0.472501</td>\n",
       "      <td>8.0</td>\n",
       "      <td>91.0</td>\n",
       "    </tr>\n",
       "    <tr>\n",
       "      <th>2</th>\n",
       "      <td>Dim3</td>\n",
       "      <td>0.319265</td>\n",
       "      <td>5.0</td>\n",
       "      <td>97.0</td>\n",
       "    </tr>\n",
       "    <tr>\n",
       "      <th>3</th>\n",
       "      <td>Dim4</td>\n",
       "      <td>0.114936</td>\n",
       "      <td>2.0</td>\n",
       "      <td>98.0</td>\n",
       "    </tr>\n",
       "    <tr>\n",
       "      <th>4</th>\n",
       "      <td>Dim5</td>\n",
       "      <td>0.052195</td>\n",
       "      <td>1.0</td>\n",
       "      <td>99.0</td>\n",
       "    </tr>\n",
       "    <tr>\n",
       "      <th>5</th>\n",
       "      <td>Dim6</td>\n",
       "      <td>0.040798</td>\n",
       "      <td>1.0</td>\n",
       "      <td>100.0</td>\n",
       "    </tr>\n",
       "  </tbody>\n",
       "</table>\n",
       "</div>"
      ],
      "text/plain": [
       "  Dimension  Variance expliquée  % variance expliquée  % cum. var. expliquée\n",
       "0      Dim1            5.027345                  83.0                   83.0\n",
       "1      Dim2            0.472501                   8.0                   91.0\n",
       "2      Dim3            0.319265                   5.0                   97.0\n",
       "3      Dim4            0.114936                   2.0                   98.0\n",
       "4      Dim5            0.052195                   1.0                   99.0\n",
       "5      Dim6            0.040798                   1.0                  100.0"
      ]
     },
     "execution_count": 20,
     "metadata": {},
     "output_type": "execute_result"
    }
   ],
   "source": [
    "eig = pd.DataFrame(\n",
    "    {\n",
    "        \"Dimension\" : [\"Dim\" + str(x + 1) for x in range(6)], \n",
    "        \"Variance expliquée\" : pca.explained_variance_,\n",
    "        \"% variance expliquée\" : np.round(pca.explained_variance_ratio_ * 100),\n",
    "        \"% cum. var. expliquée\" : np.round(np.cumsum(pca.explained_variance_ratio_) * 100)\n",
    "    }\n",
    ")\n",
    "eig"
   ]
  },
  {
   "cell_type": "markdown",
   "id": "ae2cca03",
   "metadata": {
    "papermill": {
     "duration": 0.01744,
     "end_time": "2024-03-07T09:47:49.083272",
     "exception": false,
     "start_time": "2024-03-07T09:47:49.065832",
     "status": "completed"
    },
    "tags": []
   },
   "source": [
    "L'idée est de représenter graphiquement ces proportions de variances expliquées (qu'on passe en pourcentage par convenance)."
   ]
  },
  {
   "cell_type": "code",
   "execution_count": 21,
   "id": "999b6b4e",
   "metadata": {
    "execution": {
     "iopub.execute_input": "2024-03-07T09:47:49.120297Z",
     "iopub.status.busy": "2024-03-07T09:47:49.119053Z",
     "iopub.status.idle": "2024-03-07T09:47:49.461816Z",
     "shell.execute_reply": "2024-03-07T09:47:49.460590Z"
    },
    "papermill": {
     "duration": 0.36418,
     "end_time": "2024-03-07T09:47:49.464537",
     "exception": false,
     "start_time": "2024-03-07T09:47:49.100357",
     "status": "completed"
    },
    "tags": []
   },
   "outputs": [
    {
     "data": {
      "image/png": "[encoded data removed]",
      "text/plain": [
       "<Figure size 640x480 with 1 Axes>"
      ]
     },
     "metadata": {},
     "output_type": "display_data"
    }
   ],
   "source": [
    "eig.plot.bar(x = \"Dimension\", y = \"% variance expliquée\") # permet un diagramme en barres\n",
    "plt.text(5, 18, \"17%\") # ajout de texte\n",
    "plt.axhline(y = 17, linewidth = .5, color = \"dimgray\", linestyle = \"--\") # ligne 17 = 100 / 6 (nb dimensions)\n",
    "plt.show()"
   ]
  },
  {
   "cell_type": "markdown",
   "id": "80f50041",
   "metadata": {
    "papermill": {
     "duration": 0.017275,
     "end_time": "2024-03-07T09:47:49.499218",
     "exception": false,
     "start_time": "2024-03-07T09:47:49.481943",
     "status": "completed"
    },
    "tags": []
   },
   "source": [
    "On remarque ici qu'avec seulement deux dimensions suffisent à expliquer 91 % de la variance des données."
   ]
  },
  {
   "cell_type": "markdown",
   "id": "4762c00a",
   "metadata": {
    "papermill": {
     "duration": 0.017794,
     "end_time": "2024-03-07T09:47:49.536667",
     "exception": false,
     "start_time": "2024-03-07T09:47:49.518873",
     "status": "completed"
    },
    "tags": []
   },
   "source": [
    "## Représentation des individus"
   ]
  },
  {
   "cell_type": "markdown",
   "id": "121f4ae9",
   "metadata": {
    "papermill": {
     "duration": 0.017794,
     "end_time": "2024-03-07T09:47:49.572764",
     "exception": false,
     "start_time": "2024-03-07T09:47:49.554970",
     "status": "completed"
    },
    "tags": []
   },
   "source": [
    "Nous allons maintenant calculer les coordonnées des iris sur les dimensions, avec la fonction transform() de l'objet pca."
   ]
  },
  {
   "cell_type": "code",
   "execution_count": 22,
   "id": "95948a10",
   "metadata": {
    "execution": {
     "iopub.execute_input": "2024-03-07T09:47:49.610810Z",
     "iopub.status.busy": "2024-03-07T09:47:49.609960Z",
     "iopub.status.idle": "2024-03-07T09:47:49.616989Z",
     "shell.execute_reply": "2024-03-07T09:47:49.616095Z"
    },
    "papermill": {
     "duration": 0.029032,
     "end_time": "2024-03-07T09:47:49.619640",
     "exception": false,
     "start_time": "2024-03-07T09:47:49.590608",
     "status": "completed"
    },
    "tags": []
   },
   "outputs": [],
   "source": [
    "WGI_pca = pca.transform(WGI_num)"
   ]
  },
  {
   "cell_type": "markdown",
   "id": "2cdfe57b",
   "metadata": {
    "papermill": {
     "duration": 0.018267,
     "end_time": "2024-03-07T09:47:49.655947",
     "exception": false,
     "start_time": "2024-03-07T09:47:49.637680",
     "status": "completed"
    },
    "tags": []
   },
   "source": [
    "Afin de manipuler plus facilement l'objet obtenu par la suite, nous allons créer un DataFrame pandas en ne prenant que les deux premières dimensions, ainsi que les espèces."
   ]
  },
  {
   "cell_type": "code",
   "execution_count": 23,
   "id": "2a499bdc",
   "metadata": {
    "execution": {
     "iopub.execute_input": "2024-03-07T09:47:49.694952Z",
     "iopub.status.busy": "2024-03-07T09:47:49.693911Z",
     "iopub.status.idle": "2024-03-07T09:47:49.711311Z",
     "shell.execute_reply": "2024-03-07T09:47:49.709608Z"
    },
    "papermill": {
     "duration": 0.040307,
     "end_time": "2024-03-07T09:47:49.714319",
     "exception": false,
     "start_time": "2024-03-07T09:47:49.674012",
     "status": "completed"
    },
    "tags": []
   },
   "outputs": [
    {
     "data": {
      "text/html": [
       "<div>\n",
       "<style scoped>\n",
       "    .dataframe tbody tr th:only-of-type {\n",
       "        vertical-align: middle;\n",
       "    }\n",
       "\n",
       "    .dataframe tbody tr th {\n",
       "        vertical-align: top;\n",
       "    }\n",
       "\n",
       "    .dataframe thead th {\n",
       "        text-align: right;\n",
       "    }\n",
       "</style>\n",
       "<table border=\"1\" class=\"dataframe\">\n",
       "  <thead>\n",
       "    <tr style=\"text-align: right;\">\n",
       "      <th></th>\n",
       "      <th>Dim1</th>\n",
       "      <th>Dim2</th>\n",
       "      <th>Country</th>\n",
       "      <th>Continent</th>\n",
       "    </tr>\n",
       "  </thead>\n",
       "  <tbody>\n",
       "    <tr>\n",
       "      <th>0</th>\n",
       "      <td>3.790973</td>\n",
       "      <td>-0.936333</td>\n",
       "      <td>Afghanistan, Islamic Republic of</td>\n",
       "      <td>Asia</td>\n",
       "    </tr>\n",
       "    <tr>\n",
       "      <th>1</th>\n",
       "      <td>0.019583</td>\n",
       "      <td>0.287254</td>\n",
       "      <td>Albania, Republic of</td>\n",
       "      <td>Europe</td>\n",
       "    </tr>\n",
       "    <tr>\n",
       "      <th>2</th>\n",
       "      <td>2.063085</td>\n",
       "      <td>-0.340833</td>\n",
       "      <td>Algeria, People's Democratic Republic of</td>\n",
       "      <td>Africa</td>\n",
       "    </tr>\n",
       "    <tr>\n",
       "      <th>4</th>\n",
       "      <td>-3.385678</td>\n",
       "      <td>0.124952</td>\n",
       "      <td>Andorra, Principality of</td>\n",
       "      <td>Europe</td>\n",
       "    </tr>\n",
       "    <tr>\n",
       "      <th>5</th>\n",
       "      <td>2.439518</td>\n",
       "      <td>0.228024</td>\n",
       "      <td>Angola, Republic of</td>\n",
       "      <td>Africa</td>\n",
       "    </tr>\n",
       "  </tbody>\n",
       "</table>\n",
       "</div>"
      ],
      "text/plain": [
       "       Dim1      Dim2                                   Country Continent\n",
       "0  3.790973 -0.936333          Afghanistan, Islamic Republic of      Asia\n",
       "1  0.019583  0.287254                      Albania, Republic of    Europe\n",
       "2  2.063085 -0.340833  Algeria, People's Democratic Republic of    Africa\n",
       "4 -3.385678  0.124952                  Andorra, Principality of    Europe\n",
       "5  2.439518  0.228024                       Angola, Republic of    Africa"
      ]
     },
     "execution_count": 23,
     "metadata": {},
     "output_type": "execute_result"
    }
   ],
   "source": [
    "# Transformation en DataFrame pandas\n",
    "WGI_pca_df = pd.DataFrame({\n",
    "    \"Dim1\" : WGI_pca[:,0], \n",
    "    \"Dim2\" : WGI_pca[:,1],\n",
    "    \"Country\" : WGI[\"Country_Name\"],\n",
    "    \"Continent\" : WGI[\"Continent_Name\"]\n",
    "})\n",
    "\n",
    "# Résultat (premières lignes)\n",
    "WGI_pca_df.head()"
   ]
  },
  {
   "cell_type": "markdown",
   "id": "244ef607",
   "metadata": {
    "papermill": {
     "duration": 0.018301,
     "end_time": "2024-03-07T09:47:49.751787",
     "exception": false,
     "start_time": "2024-03-07T09:47:49.733486",
     "status": "completed"
    },
    "tags": []
   },
   "source": [
    "Il est maintenant possible de représenter les données sur le premier plan factoriel. Dans ce graphique, il est important de noter le pourcentage de variance expliquée."
   ]
  },
  {
   "cell_type": "code",
   "execution_count": 24,
   "id": "b2e0895a",
   "metadata": {
    "execution": {
     "iopub.execute_input": "2024-03-07T09:47:49.791690Z",
     "iopub.status.busy": "2024-03-07T09:47:49.791205Z",
     "iopub.status.idle": "2024-03-07T09:47:50.109529Z",
     "shell.execute_reply": "2024-03-07T09:47:50.108340Z"
    },
    "papermill": {
     "duration": 0.34157,
     "end_time": "2024-03-07T09:47:50.112568",
     "exception": false,
     "start_time": "2024-03-07T09:47:49.770998",
     "status": "completed"
    },
    "tags": []
   },
   "outputs": [
    {
     "data": {
      "image/png": "[encoded data removed]",
      "text/plain": [
       "<Figure size 640x480 with 1 Axes>"
      ]
     },
     "metadata": {},
     "output_type": "display_data"
    }
   ],
   "source": [
    "WGI_pca_df.plot.scatter(\"Dim1\", \"Dim2\") # nuage de points\n",
    "plt.xlabel(\"Dimension 1 (83%)\") # modification du nom de l'axe X\n",
    "plt.ylabel(\"Dimension 2 (8 %)\") # idem pour axe Y\n",
    "plt.suptitle(\"Premier plan factoriel (91%)\") # titre général\n",
    "plt.show()"
   ]
  },
  {
   "cell_type": "markdown",
   "id": "97ec72ce",
   "metadata": {
    "papermill": {
     "duration": 0.019733,
     "end_time": "2024-03-07T09:47:50.150836",
     "exception": false,
     "start_time": "2024-03-07T09:47:50.131103",
     "status": "completed"
    },
    "tags": []
   },
   "source": [
    "Dans ce même graphique, on veut repérer les individus aux extrêmes. Ci-dessous, nous affichons donc les noms des pays ayant des valeurs absolues élevées pour chaque composante."
   ]
  },
  {
   "cell_type": "markdown",
   "id": "36e4dd27",
   "metadata": {
    "papermill": {
     "duration": 0.017568,
     "end_time": "2024-03-07T09:47:50.186657",
     "exception": false,
     "start_time": "2024-03-07T09:47:50.169089",
     "status": "completed"
    },
    "tags": []
   },
   "source": [
    "On pourrait aussi se demander s'il y a un effet continent. Pour cela, nous allons colorer les points en fonction de leur continent donc."
   ]
  },
  {
   "cell_type": "code",
   "execution_count": 25,
   "id": "c14b723f",
   "metadata": {
    "execution": {
     "iopub.execute_input": "2024-03-07T09:47:50.226082Z",
     "iopub.status.busy": "2024-03-07T09:47:50.225030Z",
     "iopub.status.idle": "2024-03-07T09:47:50.236564Z",
     "shell.execute_reply": "2024-03-07T09:47:50.235341Z"
    },
    "papermill": {
     "duration": 0.033927,
     "end_time": "2024-03-07T09:47:50.239655",
     "exception": false,
     "start_time": "2024-03-07T09:47:50.205728",
     "status": "completed"
    },
    "tags": []
   },
   "outputs": [
    {
     "data": {
      "text/plain": [
       "{'Asia': array([0.10588235, 0.61960784, 0.46666667, 1.        ]),\n",
       " 'Europe': array([0.85098039, 0.37254902, 0.00784314, 1.        ]),\n",
       " 'Africa': array([0.45882353, 0.43921569, 0.70196078, 1.        ]),\n",
       " 'North America': array([0.90588235, 0.16078431, 0.54117647, 1.        ]),\n",
       " 'South America': array([0.4       , 0.65098039, 0.11764706, 1.        ]),\n",
       " 'Oceania': array([0.90196078, 0.67058824, 0.00784314, 1.        ])}"
      ]
     },
     "execution_count": 25,
     "metadata": {},
     "output_type": "execute_result"
    }
   ],
   "source": [
    "# permet de créer une palette de couleurs, basée sur Color Brewer\n",
    "palette = plt.get_cmap(\"Dark2\")\n",
    "# associe une couleur à chaque continent (cf ci-dessous)\n",
    "couleurs = dict(zip(WGI_pca_df[\"Continent\"].drop_duplicates(), palette(range(6))))\n",
    "couleurs"
   ]
  },
  {
   "cell_type": "markdown",
   "id": "0b47ad85",
   "metadata": {
    "papermill": {
     "duration": 0.019252,
     "end_time": "2024-03-07T09:47:50.277261",
     "exception": false,
     "start_time": "2024-03-07T09:47:50.258009",
     "status": "completed"
    },
    "tags": []
   },
   "source": [
    "Une fois qu'on a associé une couleur à chaque continent, on peut utiliser ce dictionnaire comme ci-dessous"
   ]
  },
  {
   "cell_type": "code",
   "execution_count": 26,
   "id": "566570b7",
   "metadata": {
    "execution": {
     "iopub.execute_input": "2024-03-07T09:47:50.316505Z",
     "iopub.status.busy": "2024-03-07T09:47:50.316067Z",
     "iopub.status.idle": "2024-03-07T09:47:50.323724Z",
     "shell.execute_reply": "2024-03-07T09:47:50.322476Z"
    },
    "papermill": {
     "duration": 0.030435,
     "end_time": "2024-03-07T09:47:50.326582",
     "exception": false,
     "start_time": "2024-03-07T09:47:50.296147",
     "status": "completed"
    },
    "tags": []
   },
   "outputs": [
    {
     "data": {
      "text/plain": [
       "array([0.10588235, 0.61960784, 0.46666667, 1.        ])"
      ]
     },
     "execution_count": 26,
     "metadata": {},
     "output_type": "execute_result"
    }
   ],
   "source": [
    "couleurs[\"Asia\"]"
   ]
  },
  {
   "cell_type": "code",
   "execution_count": 27,
   "id": "2962d8aa",
   "metadata": {
    "execution": {
     "iopub.execute_input": "2024-03-07T09:47:50.367605Z",
     "iopub.status.busy": "2024-03-07T09:47:50.366097Z",
     "iopub.status.idle": "2024-03-07T09:47:50.375328Z",
     "shell.execute_reply": "2024-03-07T09:47:50.374052Z"
    },
    "papermill": {
     "duration": 0.031955,
     "end_time": "2024-03-07T09:47:50.377682",
     "exception": false,
     "start_time": "2024-03-07T09:47:50.345727",
     "status": "completed"
    },
    "tags": []
   },
   "outputs": [
    {
     "data": {
      "text/plain": [
       "{'Asia': 0,\n",
       " 'Europe': 1,\n",
       " 'Africa': 2,\n",
       " 'North America': 3,\n",
       " 'South America': 4,\n",
       " 'Oceania': 5}"
      ]
     },
     "execution_count": 27,
     "metadata": {},
     "output_type": "execute_result"
    }
   ],
   "source": [
    "position = dict(zip(couleurs.keys(), range(6)))\n",
    "position"
   ]
  },
  {
   "cell_type": "code",
   "execution_count": 28,
   "id": "1bc101a9",
   "metadata": {
    "execution": {
     "iopub.execute_input": "2024-03-07T09:47:50.419668Z",
     "iopub.status.busy": "2024-03-07T09:47:50.418419Z",
     "iopub.status.idle": "2024-03-07T09:47:50.811584Z",
     "shell.execute_reply": "2024-03-07T09:47:50.810552Z"
    },
    "papermill": {
     "duration": 0.417546,
     "end_time": "2024-03-07T09:47:50.814497",
     "exception": false,
     "start_time": "2024-03-07T09:47:50.396951",
     "status": "completed"
    },
    "tags": []
   },
   "outputs": [
    {
     "data": {
      "image/png": "[encoded data removed]",
      "text/plain": [
       "<Figure size 640x480 with 1 Axes>"
      ]
     },
     "metadata": {},
     "output_type": "display_data"
    }
   ],
   "source": [
    "# Affichage des points avec une liste de couleurs\n",
    "WGI_pca_df.plot.scatter(x = \"Dim1\", y = \"Dim2\", c = [couleurs[p] for p in WGI_pca_df[\"Continent\"]])\n",
    "# boucle pour afficher la légende\n",
    "for cont, coul in couleurs.items():\n",
    "    plt.scatter(3, position[cont] / 3 + 2.15, c = [coul], s = 20)\n",
    "    plt.text(3.2, position[cont] / 3 + 2, cont)\n",
    "plt.xlabel(\"Dimension 1 (83%)\") \n",
    "plt.ylabel(\"Dimension 2 (8 %)\")\n",
    "plt.suptitle(\"Premier plan factoriel (91%)\")\n",
    "plt.show()"
   ]
  },
  {
   "cell_type": "markdown",
   "id": "2e4964b6",
   "metadata": {
    "papermill": {
     "duration": 0.019901,
     "end_time": "2024-03-07T09:47:50.854400",
     "exception": false,
     "start_time": "2024-03-07T09:47:50.834499",
     "status": "completed"
    },
    "tags": []
   },
   "source": [
    "Il est aussi possible de différencier l'affichage de ce premier plan par continent."
   ]
  },
  {
   "cell_type": "code",
   "execution_count": 29,
   "id": "1e6c70f4",
   "metadata": {
    "execution": {
     "iopub.execute_input": "2024-03-07T09:47:50.896367Z",
     "iopub.status.busy": "2024-03-07T09:47:50.895387Z",
     "iopub.status.idle": "2024-03-07T09:47:52.364471Z",
     "shell.execute_reply": "2024-03-07T09:47:52.363251Z"
    },
    "papermill": {
     "duration": 1.493422,
     "end_time": "2024-03-07T09:47:52.367381",
     "exception": false,
     "start_time": "2024-03-07T09:47:50.873959",
     "status": "completed"
    },
    "tags": []
   },
   "outputs": [
    {
     "data": {
      "image/png": "[encoded data removed]",
      "text/plain": [
       "<Figure size 640x480 with 6 Axes>"
      ]
     },
     "metadata": {},
     "output_type": "display_data"
    }
   ],
   "source": [
    "fig = plt.figure()\n",
    "fig.subplots_adjust(hspace = 0.4, wspace = 0.4)\n",
    "for cont, coul in couleurs.items():\n",
    "    ax = fig.add_subplot(2, 3, position[cont] + 1)\n",
    "    temp = WGI_pca_df.query('Continent == \"' + cont + '\"')\n",
    "    temp.plot.scatter(x = \"Dim1\", y = \"Dim2\", c = [coul], ax = ax)\n",
    "    ax.set_title(cont)\n",
    "    ax.set_xlim(WGI_pca_df.Dim1.quantile([0, 1])) # permet d'avoir min et max\n",
    "    ax.set_ylim(WGI_pca_df.Dim2.quantile([0, 1])) # idem\n",
    "    ax.set_xlabel(\"\")\n",
    "    ax.set_ylabel(\"\")\n",
    "plt.show()"
   ]
  },
  {
   "cell_type": "markdown",
   "id": "ff8f7496",
   "metadata": {
    "papermill": {
     "duration": 0.020256,
     "end_time": "2024-03-07T09:47:52.408050",
     "exception": false,
     "start_time": "2024-03-07T09:47:52.387794",
     "status": "completed"
    },
    "tags": []
   },
   "source": [
    "## Représentation des variables"
   ]
  },
  {
   "cell_type": "markdown",
   "id": "938c528a",
   "metadata": {
    "papermill": {
     "duration": 0.019949,
     "end_time": "2024-03-07T09:47:52.448094",
     "exception": false,
     "start_time": "2024-03-07T09:47:52.428145",
     "status": "completed"
    },
    "tags": []
   },
   "source": [
    "Lorsqu'on réalise une ACP, surtout dans un contexte exploratoire (et non de compression), il est absolument nécessaire de décrire les axesà partir des variables, afin de comprendre ce qu'ils représentent. Pour cela, nous devons réaliser le cercle des corrélations. Malheureusement, il faut le réaliser à la main."
   ]
  },
  {
   "cell_type": "code",
   "execution_count": 30,
   "id": "fc2e5ecf",
   "metadata": {
    "execution": {
     "iopub.execute_input": "2024-03-07T09:47:52.492288Z",
     "iopub.status.busy": "2024-03-07T09:47:52.491359Z",
     "iopub.status.idle": "2024-03-07T09:47:52.508068Z",
     "shell.execute_reply": "2024-03-07T09:47:52.506733Z"
    },
    "papermill": {
     "duration": 0.040996,
     "end_time": "2024-03-07T09:47:52.510611",
     "exception": false,
     "start_time": "2024-03-07T09:47:52.469615",
     "status": "completed"
    },
    "tags": []
   },
   "outputs": [
    {
     "data": {
      "text/html": [
       "<div>\n",
       "<style scoped>\n",
       "    .dataframe tbody tr th:only-of-type {\n",
       "        vertical-align: middle;\n",
       "    }\n",
       "\n",
       "    .dataframe tbody tr th {\n",
       "        vertical-align: top;\n",
       "    }\n",
       "\n",
       "    .dataframe thead th {\n",
       "        text-align: right;\n",
       "    }\n",
       "</style>\n",
       "<table border=\"1\" class=\"dataframe\">\n",
       "  <thead>\n",
       "    <tr style=\"text-align: right;\">\n",
       "      <th></th>\n",
       "      <th>id</th>\n",
       "      <th>COR_1</th>\n",
       "      <th>COR_2</th>\n",
       "    </tr>\n",
       "  </thead>\n",
       "  <tbody>\n",
       "    <tr>\n",
       "      <th>0</th>\n",
       "      <td>CorruptionControl</td>\n",
       "      <td>-0.953077</td>\n",
       "      <td>-0.087238</td>\n",
       "    </tr>\n",
       "    <tr>\n",
       "      <th>1</th>\n",
       "      <td>GovEffectiveness</td>\n",
       "      <td>-0.944814</td>\n",
       "      <td>-0.251061</td>\n",
       "    </tr>\n",
       "    <tr>\n",
       "      <th>2</th>\n",
       "      <td>PoliticalStability</td>\n",
       "      <td>-0.821878</td>\n",
       "      <td>0.434985</td>\n",
       "    </tr>\n",
       "    <tr>\n",
       "      <th>3</th>\n",
       "      <td>RegulatoryQuality</td>\n",
       "      <td>-0.939355</td>\n",
       "      <td>-0.251006</td>\n",
       "    </tr>\n",
       "    <tr>\n",
       "      <th>4</th>\n",
       "      <td>RuleLaw</td>\n",
       "      <td>-0.977861</td>\n",
       "      <td>-0.108867</td>\n",
       "    </tr>\n",
       "    <tr>\n",
       "      <th>5</th>\n",
       "      <td>VoiceAccountability</td>\n",
       "      <td>-0.828987</td>\n",
       "      <td>0.368022</td>\n",
       "    </tr>\n",
       "  </tbody>\n",
       "</table>\n",
       "</div>"
      ],
      "text/plain": [
       "                    id     COR_1     COR_2\n",
       "0    CorruptionControl -0.953077 -0.087238\n",
       "1     GovEffectiveness -0.944814 -0.251061\n",
       "2   PoliticalStability -0.821878  0.434985\n",
       "3    RegulatoryQuality -0.939355 -0.251006\n",
       "4              RuleLaw -0.977861 -0.108867\n",
       "5  VoiceAccountability -0.828987  0.368022"
      ]
     },
     "execution_count": 30,
     "metadata": {},
     "output_type": "execute_result"
    }
   ],
   "source": [
    "n = WGI_num.shape[0] # nb individus\n",
    "p = WGI_num.shape[1] # nb variables\n",
    "eigval = (n-1) / n * pca.explained_variance_ # valeurs propres\n",
    "sqrt_eigval = np.sqrt(eigval) # racine carrée des valeurs propres\n",
    "corvar = np.zeros((p,p)) # matrice vide pour avoir les coordonnées\n",
    "for k in range(p):\n",
    "    corvar[:,k] = pca.components_[k,:] * sqrt_eigval[k]\n",
    "# on modifie pour avoir un dataframe\n",
    "coordvar = pd.DataFrame({'id': WGI_num.columns, 'COR_1': corvar[:,0], 'COR_2': corvar[:,1]})\n",
    "coordvar"
   ]
  },
  {
   "cell_type": "markdown",
   "id": "ebaecef2",
   "metadata": {
    "execution": {
     "iopub.execute_input": "2024-03-07T09:38:08.005138Z",
     "iopub.status.busy": "2024-03-07T09:38:08.004502Z",
     "iopub.status.idle": "2024-03-07T09:38:08.013990Z",
     "shell.execute_reply": "2024-03-07T09:38:08.012781Z",
     "shell.execute_reply.started": "2024-03-07T09:38:08.005091Z"
    },
    "papermill": {
     "duration": 0.021051,
     "end_time": "2024-03-07T09:47:52.554317",
     "exception": false,
     "start_time": "2024-03-07T09:47:52.533266",
     "status": "completed"
    },
    "tags": []
   },
   "source": [
    "Une fois ces coordonnées récupérées, on peut donc afficher ce cercle des corrélations comme ci-dessous."
   ]
  },
  {
   "cell_type": "code",
   "execution_count": 31,
   "id": "8b3f32ab",
   "metadata": {
    "execution": {
     "iopub.execute_input": "2024-03-07T09:47:52.597949Z",
     "iopub.status.busy": "2024-03-07T09:47:52.597534Z",
     "iopub.status.idle": "2024-03-07T09:47:53.034786Z",
     "shell.execute_reply": "2024-03-07T09:47:53.033109Z"
    },
    "papermill": {
     "duration": 0.462653,
     "end_time": "2024-03-07T09:47:53.037525",
     "exception": false,
     "start_time": "2024-03-07T09:47:52.574872",
     "status": "completed"
    },
    "tags": []
   },
   "outputs": [
    {
     "data": {
      "image/png": "[encoded data removed]",
      "text/plain": [
       "<Figure size 600x600 with 1 Axes>"
      ]
     },
     "metadata": {},
     "output_type": "display_data"
    }
   ],
   "source": [
    "# Création d'une figure vide (avec des axes entre -1 et 1 + le titre)\n",
    "fig, axes = plt.subplots(figsize = (6,6))\n",
    "fig.suptitle(\"Cercle des corrélations\")\n",
    "axes.set_xlim(-1, 1)\n",
    "axes.set_ylim(-1, 1)\n",
    "# Ajout des axes\n",
    "axes.axvline(x = 0, color = 'lightgray', linestyle = '--', linewidth = 1)\n",
    "axes.axhline(y = 0, color = 'lightgray', linestyle = '--', linewidth = 1)\n",
    "# Ajout des noms des variables\n",
    "for j in range(p):\n",
    "    axes.text(coordvar[\"COR_1\"][j],coordvar[\"COR_2\"][j], coordvar[\"id\"][j])\n",
    "# Ajout du cercle\n",
    "plt.gca().add_artist(plt.Circle((0,0),1,color='blue',fill=False))\n",
    "\n",
    "plt.show()"
   ]
  },
  {
   "cell_type": "markdown",
   "id": "250852c6",
   "metadata": {
    "papermill": {
     "duration": 0.022808,
     "end_time": "2024-03-07T09:47:53.083505",
     "exception": false,
     "start_time": "2024-03-07T09:47:53.060697",
     "status": "completed"
    },
    "tags": []
   },
   "source": [
    "Ici, on va en déduire que l'axe 1 oppose à gauche les pays avec une forte valeur dans tous les indicateurs (ils sont tous à gauche), et à droite les pays à faible valeur pour ces indicateurs.\n",
    "\n",
    "L'axe 2 semble opposer les pays avec une valeur positive pour les indicateurs sur la statibilité politique et la prise en compte de l'avis des citoyens en haut, avec les pays avec une valeur négative pour ces 2 indicateurs en bas.\n",
    "\n",
    "Vous pouvez revenir sur le graphique des pays pour mieux comprendre."
   ]
  }
 ],
 "metadata": {
  "kaggle": {
   "accelerator": "none",
   "dataSources": [
    {
     "datasetId": 4554708,
     "sourceId": 7782896,
     "sourceType": "datasetVersion"
    }
   ],
   "dockerImageVersionId": 30664,
   "isGpuEnabled": false,
   "isInternetEnabled": true,
   "language": "python",
   "sourceType": "notebook"
  },
  "kernelspec": {
   "display_name": "Python 3",
   "language": "python",
   "name": "python3"
  },
  "language_info": {
   "codemirror_mode": {
    "name": "ipython",
    "version": 3
   },
   "file_extension": ".py",
   "mimetype": "text/x-python",
   "name": "python",
   "nbconvert_exporter": "python",
   "pygments_lexer": "ipython3",
   "version": "3.10.13"
  },
  "papermill": {
   "default_parameters": {},
   "duration": 12.274737,
   "end_time": "2024-03-07T09:47:53.828652",
   "environment_variables": {},
   "exception": null,
   "input_path": "__notebook__.ipynb",
   "output_path": "__notebook__.ipynb",
   "parameters": {},
   "start_time": "2024-03-07T09:47:41.553915",
   "version": "2.5.0"
  }
 },
 "nbformat": 4,
 "nbformat_minor": 5
}
